{
 "cells": [
  {
   "cell_type": "markdown",
   "id": "433a75c4-be64-468f-90ad-10b0e279c467",
   "metadata": {},
   "source": [
    " #### <u>Lab 10</u>\n",
    "##### CSCI316 - Big Data"
   ]
  },
  {
   "cell_type": "markdown",
   "id": "3fc033a7-1676-4c3e-a1b0-6f0619d95581",
   "metadata": {},
   "source": [
    "**Group Members**\n",
    "- Hunter Riddle (6451159)\n",
    "- Oliver Small ()"
   ]
  },
  {
   "cell_type": "markdown",
   "id": "50396588-f9ba-44a0-bc0b-586b40c52feb",
   "metadata": {},
   "source": [
    "#### Plain Tensorflow MLP Implementation"
   ]
  },
  {
   "cell_type": "code",
   "execution_count": 1,
   "id": "1dac40c9-9c7d-4fe0-a58e-cdf32d9fcea7",
   "metadata": {},
   "outputs": [
    {
     "name": "stderr",
     "output_type": "stream",
     "text": [
      "/srv/conda/envs/notebook/lib/python3.7/site-packages/tensorflow/python/framework/dtypes.py:526: FutureWarning: Passing (type, 1) or '1type' as a synonym of type is deprecated; in a future version of numpy, it will be understood as (type, (1,)) / '(1,)type'.\n",
      "  _np_qint8 = np.dtype([(\"qint8\", np.int8, 1)])\n",
      "/srv/conda/envs/notebook/lib/python3.7/site-packages/tensorflow/python/framework/dtypes.py:527: FutureWarning: Passing (type, 1) or '1type' as a synonym of type is deprecated; in a future version of numpy, it will be understood as (type, (1,)) / '(1,)type'.\n",
      "  _np_quint8 = np.dtype([(\"quint8\", np.uint8, 1)])\n",
      "/srv/conda/envs/notebook/lib/python3.7/site-packages/tensorflow/python/framework/dtypes.py:528: FutureWarning: Passing (type, 1) or '1type' as a synonym of type is deprecated; in a future version of numpy, it will be understood as (type, (1,)) / '(1,)type'.\n",
      "  _np_qint16 = np.dtype([(\"qint16\", np.int16, 1)])\n",
      "/srv/conda/envs/notebook/lib/python3.7/site-packages/tensorflow/python/framework/dtypes.py:529: FutureWarning: Passing (type, 1) or '1type' as a synonym of type is deprecated; in a future version of numpy, it will be understood as (type, (1,)) / '(1,)type'.\n",
      "  _np_quint16 = np.dtype([(\"quint16\", np.uint16, 1)])\n",
      "/srv/conda/envs/notebook/lib/python3.7/site-packages/tensorflow/python/framework/dtypes.py:530: FutureWarning: Passing (type, 1) or '1type' as a synonym of type is deprecated; in a future version of numpy, it will be understood as (type, (1,)) / '(1,)type'.\n",
      "  _np_qint32 = np.dtype([(\"qint32\", np.int32, 1)])\n",
      "/srv/conda/envs/notebook/lib/python3.7/site-packages/tensorflow/python/framework/dtypes.py:535: FutureWarning: Passing (type, 1) or '1type' as a synonym of type is deprecated; in a future version of numpy, it will be understood as (type, (1,)) / '(1,)type'.\n",
      "  np_resource = np.dtype([(\"resource\", np.ubyte, 1)])\n"
     ]
    }
   ],
   "source": [
    "# imports\n",
    "import numpy as np\n",
    "import pandas as pd\n",
    "import tensorflow as tf"
   ]
  },
  {
   "cell_type": "code",
   "execution_count": 2,
   "id": "fc9e8ad3-419d-4e58-be30-4b5cf47002cf",
   "metadata": {},
   "outputs": [],
   "source": [
    "# read in data\n",
    "data = pd.read_csv(\"abalone_data.data\", sep=',', header=None)\n",
    "n_rows = data.shape[0]\n",
    "n_columns = data.shape[1]"
   ]
  },
  {
   "cell_type": "code",
   "execution_count": 3,
   "id": "a040b16a-8022-4a91-bf2c-c67e546d55e7",
   "metadata": {},
   "outputs": [],
   "source": [
    "# format data\n",
    "data.columns = ['sex', 'length', 'diameter', 'height', 'whole_weight', 'shucked_weight', 'viscera_weight', 'shell_weight', 'rings']\n",
    "\n",
    "# one hot encoding ('sex' attribute)\n",
    "for (num, value) in enumerate(set(data['sex']), start=0):\n",
    "    data['sex'] = data['sex'].replace([value], num)"
   ]
  },
  {
   "cell_type": "code",
   "execution_count": 4,
   "id": "275a4089-ecc5-4b73-8a1a-de0cfb3ececb",
   "metadata": {},
   "outputs": [
    {
     "name": "stdout",
     "output_type": "stream",
     "text": [
      "[[0.     0.45   0.34   ... 0.1605 0.0795 0.105 ]\n",
      " [1.     0.3    0.23   ... 0.056  0.0365 0.037 ]\n",
      " [0.     0.555  0.44   ... 0.4155 0.146  0.23  ]\n",
      " ...\n",
      " [0.     0.525  0.4    ... 0.3685 0.145  0.1735]\n",
      " [1.     0.345  0.255  ... 0.105  0.037  0.05  ]\n",
      " [0.     0.635  0.48   ... 0.413  0.228  0.36  ]]\n"
     ]
    }
   ],
   "source": [
    "# create testsets (holdout evaluation method, 70/30 split)\n",
    "X_train = data.sample(int(n_rows*0.7))\n",
    "X_test = data.drop(X_train.index)\n",
    "\n",
    "# reset indexes\n",
    "X_train = X_train.reset_index()\n",
    "X_test = X_test.reset_index()\n",
    "\n",
    "# cleaning up\n",
    "y_train = np.array(X_train['rings'])\n",
    "y_test = np.array(X_test['rings'])\n",
    "X_train = np.array(X_train.iloc[: ,1:-1])\n",
    "X_test = np.array(X_test.iloc[: ,1:-1])\n",
    "print(X_train)"
   ]
  },
  {
   "cell_type": "code",
   "execution_count": 5,
   "id": "b9b96572-04bb-4406-89b8-2fd6aa453127",
   "metadata": {},
   "outputs": [],
   "source": [
    "# MLP hyperparameters\n",
    "n_features = 8\n",
    "n_neurons_hidden = 20\n",
    "n_neurons_out = 1"
   ]
  },
  {
   "cell_type": "code",
   "execution_count": 6,
   "id": "5f59d10c-281e-4cc5-bd1d-295c0c53f466",
   "metadata": {},
   "outputs": [
    {
     "name": "stdout",
     "output_type": "stream",
     "text": [
      "WARNING:tensorflow:From /srv/conda/envs/notebook/lib/python3.7/site-packages/tensorflow/python/framework/op_def_library.py:263: colocate_with (from tensorflow.python.framework.ops) is deprecated and will be removed in a future version.\n",
      "Instructions for updating:\n",
      "Colocations handled automatically by placer.\n"
     ]
    }
   ],
   "source": [
    "# MLP variables\n",
    "X = tf.placeholder(tf.float32, shape=(None, n_features), name='X')\n",
    "y_true = tf.placeholder(tf.float32, shape=(None), name=\"y\")\n",
    "\n",
    "W1 = tf.get_variable(\"weights1\", dtype=tf.float32, initializer=tf.zeros((n_features, n_neurons_hidden)))\n",
    "b1 = tf.get_variable(\"bias1\", dtype=tf.float32, initializer=tf.zeros((n_neurons_hidden)))\n",
    "W2 = tf.get_variable(\"weights2\", dtype=tf.float32, initializer=tf.zeros((n_neurons_hidden, n_neurons_out)))\n",
    "b2 = tf.get_variable(\"bias2\", dtype=tf.float32, initializer=tf.zeros((n_neurons_out)))"
   ]
  },
  {
   "cell_type": "code",
   "execution_count": 7,
   "id": "06acfbff-4b94-4e3d-9ec0-7a62bc68adea",
   "metadata": {},
   "outputs": [],
   "source": [
    "# create network\n",
    "h = tf.nn.relu(tf.matmul(X, W1)+b1)\n",
    "z = tf.nn.softmax(tf.matmul(h, W2) + b2)"
   ]
  },
  {
   "cell_type": "code",
   "execution_count": 8,
   "id": "6b0e9467-d4a2-48ee-85ed-3b31702188b6",
   "metadata": {},
   "outputs": [],
   "source": [
    "# define costs\n",
    "y_hat = tf.exp(z) / tf.reduce_sum(tf.exp(z))\n",
    "cross_entropy = -y_true * tf.log(y_hat)\n",
    "cost = tf.reduce_mean(cross_entropy)"
   ]
  },
  {
   "cell_type": "code",
   "execution_count": 9,
   "id": "85a08ac7-f6e2-4f8a-b8b7-0c7f4db14b58",
   "metadata": {},
   "outputs": [
    {
     "name": "stdout",
     "output_type": "stream",
     "text": [
      "WARNING:tensorflow:From /srv/conda/envs/notebook/lib/python3.7/site-packages/tensorflow/python/ops/math_ops.py:3066: to_int32 (from tensorflow.python.ops.math_ops) is deprecated and will be removed in a future version.\n",
      "Instructions for updating:\n",
      "Use tf.cast instead.\n"
     ]
    }
   ],
   "source": [
    "# training\n",
    "learning_rate = 0.08\n",
    "optimizer = tf.train.GradientDescentOptimizer(learning_rate)\n",
    "training_op = optimizer.minimize(cost)"
   ]
  },
  {
   "cell_type": "code",
   "execution_count": 10,
   "id": "3c99efbe-040c-409d-824e-f30b4032f514",
   "metadata": {},
   "outputs": [
    {
     "name": "stdout",
     "output_type": "stream",
     "text": [
      "[[1.]\n",
      " [1.]\n",
      " [1.]\n",
      " [1.]\n",
      " [1.]\n",
      " [1.]\n",
      " [1.]\n",
      " [1.]\n",
      " [1.]\n",
      " [1.]\n",
      " [1.]\n",
      " [1.]\n",
      " [1.]\n",
      " [1.]\n",
      " [1.]\n",
      " [1.]\n",
      " [1.]\n",
      " [1.]\n",
      " [1.]\n",
      " [1.]\n",
      " [1.]\n",
      " [1.]\n",
      " [1.]\n",
      " [1.]]\n"
     ]
    }
   ],
   "source": [
    "# execution\n",
    "init = tf.global_variables_initializer()\n",
    "n_epochs = 100\n",
    "with tf.Session() as session:\n",
    "    init.run()\n",
    "    for epoch in range(n_epochs):\n",
    "        session.run(training_op, feed_dict={\n",
    "            X: X_train,\n",
    "            y_true: y_train\n",
    "        })\n",
    "        \n",
    "    predictions = session.run(z, feed_dict={'X:0':X_test})\n",
    "    print(predictions[33:57])\n",
    "   "
   ]
  },
  {
   "cell_type": "code",
   "execution_count": null,
   "id": "8d6b31dc-7339-467b-901b-75e96fb26051",
   "metadata": {},
   "outputs": [],
   "source": []
  }
 ],
 "metadata": {
  "kernelspec": {
   "display_name": "Python 3",
   "language": "python",
   "name": "python3"
  },
  "language_info": {
   "codemirror_mode": {
    "name": "ipython",
    "version": 3
   },
   "file_extension": ".py",
   "mimetype": "text/x-python",
   "name": "python",
   "nbconvert_exporter": "python",
   "pygments_lexer": "ipython3",
   "version": "3.7.8"
  }
 },
 "nbformat": 4,
 "nbformat_minor": 5
}
